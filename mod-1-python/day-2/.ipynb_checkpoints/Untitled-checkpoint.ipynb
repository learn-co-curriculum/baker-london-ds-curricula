{
 "cells": [
  {
   "cell_type": "code",
   "execution_count": null,
   "metadata": {},
   "outputs": [],
   "source": [
    "# Option 1\n",
    "print(\"We would like to order: \\n\")\n",
    "for order in group_lunch:\n",
    "    print(\"\\t -\"+ order['ingredient1'] +\", \"+order['ingredient2']+\", and a \"+order['ingredient3'])"
   ]
  }
 ],
 "metadata": {
  "kernelspec": {
   "display_name": "Python 3",
   "language": "python",
   "name": "python3"
  }
 },
 "nbformat": 4,
 "nbformat_minor": 2
}
