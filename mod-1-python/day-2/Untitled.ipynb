{
 "cells": [
  {
   "cell_type": "code",
   "execution_count": 9,
   "metadata": {},
   "outputs": [
    {
     "name": "stdout",
     "output_type": "stream",
     "text": [
      "We would like to order: \n",
      "\n",
      "\t -rice, unagi, and a miso soup\n",
      "\t -seaweed, tempura, and a miso soup\n",
      "\t -hamburger, french fries, and a milkshake\n"
     ]
    }
   ],
   "source": [
    "group_lunch = [\n",
    "    {'ingredient1': 'rice', 'ingredient2': 'unagi', 'ingredient3': 'miso soup'},\n",
    "    {'ingredient1': 'seaweed', 'ingredient2': 'tempura', 'ingredient3': 'miso soup'},\n",
    "    {'ingredient1': 'hamburger', 'ingredient2': 'french fries', 'ingredient3': 'milkshake'}\n",
    "]\n",
    "\n",
    "\n",
    "# Option 1\n",
    "print(\"We would like to order: \\n\")\n",
    "for order in group_lunch:\n",
    "    print(\"\\t -\"+ order['ingredient1'] +\", \"+order['ingredient2']+\", and a \"+order['ingredient3'])"
   ]
  },
  {
   "cell_type": "code",
   "execution_count": 16,
   "metadata": {},
   "outputs": [
    {
     "name": "stdout",
     "output_type": "stream",
     "text": [
      "We would like to order: \n",
      "\n",
      "\t- unagi\n",
      "\t- tempura\n",
      "\t- french fries\n"
     ]
    }
   ],
   "source": [
    "print(\"We would like to order: \\n\")\n",
    "for order in group_lunch:\n",
    "    print(\"\\t-\" ,order['ingredient1'])"
   ]
  },
  {
   "cell_type": "code",
   "execution_count": null,
   "metadata": {},
   "outputs": [],
   "source": []
  }
 ],
 "metadata": {
  "kernelspec": {
   "display_name": "Python 3",
   "language": "python",
   "name": "python3"
  },
  "language_info": {
   "codemirror_mode": {
    "name": "ipython",
    "version": 3
   },
   "file_extension": ".py",
   "mimetype": "text/x-python",
   "name": "python",
   "nbconvert_exporter": "python",
   "pygments_lexer": "ipython3",
   "version": "3.7.3"
  }
 },
 "nbformat": 4,
 "nbformat_minor": 2
}
